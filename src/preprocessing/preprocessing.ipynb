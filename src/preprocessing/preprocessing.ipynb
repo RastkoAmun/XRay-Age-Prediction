{
 "cells": [
  {
   "cell_type": "code",
   "execution_count": 14,
   "metadata": {},
   "outputs": [],
   "source": [
    "import pandas as pd\n",
    "from PIL import Image\n",
    "from pathlib import Path"
   ]
  },
  {
   "cell_type": "code",
   "execution_count": 15,
   "metadata": {},
   "outputs": [],
   "source": [
    "training_labels = pd.read_csv('../data/boneage-training-dataset.csv')\n",
    "image_ids = training_labels['id']\n",
    "image_ids = image_ids.to_numpy()"
   ]
  },
  {
   "cell_type": "code",
   "execution_count": 16,
   "metadata": {},
   "outputs": [],
   "source": [
    "ROOT_PATH = Path('../data/boneage-training-dataset')\n",
    "SAVE_PATH = Path('../data/processed/training-set')"
   ]
  },
  {
   "cell_type": "code",
   "execution_count": null,
   "metadata": {},
   "outputs": [],
   "source": [
    "for img_id in image_ids:\n",
    "  img_path = ROOT_PATH / str(img_id)\n",
    "  img_path = img_path.with_suffix('.png')\n",
    "  img = Image.open(img_path).resize((256, 344))\n",
    "\n",
    "  save_folder = SAVE_PATH\n",
    "  save_folder.mkdir(parents=True, exist_ok=True)\n",
    "  img.save((save_folder / f\"{img_id}.png\"))\n",
    "\n",
    "# Takes around 4 minutes to run on Apple's M2 PRO chip\n",
    "print(\"Image resizing finished!\")"
   ]
  }
 ],
 "metadata": {
  "kernelspec": {
   "display_name": "venv",
   "language": "python",
   "name": "python3"
  },
  "language_info": {
   "codemirror_mode": {
    "name": "ipython",
    "version": 3
   },
   "file_extension": ".py",
   "mimetype": "text/x-python",
   "name": "python",
   "nbconvert_exporter": "python",
   "pygments_lexer": "ipython3",
   "version": "3.12.7"
  }
 },
 "nbformat": 4,
 "nbformat_minor": 2
}
