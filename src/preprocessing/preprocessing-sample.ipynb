{
 "cells": [
  {
   "cell_type": "code",
   "execution_count": null,
   "metadata": {},
   "outputs": [],
   "source": [
    "import pandas as pd\n",
    "from torchvision import transforms\n",
    "from torch.utils.data import DataLoader, Dataset\n",
    "import os\n",
    "import matplotlib.pyplot as plt\n",
    "from PIL import Image\n",
    "from pathlib import Path"
   ]
  },
  {
   "cell_type": "code",
   "execution_count": null,
   "metadata": {},
   "outputs": [],
   "source": [
    "class CustomImageDataset(Dataset):\n",
    "    def __init__(self, root_dir, transform=None):\n",
    "        self.root_dir = root_dir\n",
    "        self.transform = transform\n",
    "        self.image_files = [f for f in os.listdir(root_dir) if f.endswith(('.png'))]\n",
    "\n",
    "    def __len__(self):\n",
    "        return len(self.image_files)\n",
    "\n",
    "    def __getitem__(self, idx):\n",
    "        img_path = os.path.join(self.root_dir, self.image_files[idx])\n",
    "        image = Image.open(img_path)  # No conversion\n",
    "        if self.transform:\n",
    "            image = self.transform(image)\n",
    "        return image"
   ]
  },
  {
   "cell_type": "code",
   "execution_count": null,
   "metadata": {},
   "outputs": [],
   "source": [
    "transform = transforms.Compose([\n",
    "  transforms.Resize((172, 128)),\n",
    "  transforms.ToTensor(),\n",
    "  transforms.Normalize((0.5,), (0.5,))\n",
    "])\n",
    "\n",
    "sample_labels = [1377, 1378, 1379, 1380, 1381, 1382, 1383, 1384, 1385]\n",
    "\n",
    "ROOT_PATH = Path('../data/sample')\n",
    "SAVE_PATH = Path('../data/processed/sample')\n",
    "\n",
    "training_dataset = CustomImageDataset(\n",
    "  root_dir=\"../data/sample\", transform=transform\n",
    ")\n",
    "\n",
    "dataloader = DataLoader(training_dataset, batch_size=2, shuffle=True)\n",
    "\n",
    "# Get a batch of images\n",
    "for images in dataloader:\n",
    "    img = images.permute(0, 2, 3, 1)[0]\n",
    "    plt.imshow(img.squeeze(), cmap=\"gray\")\n",
    "    print(images.shape)  # Expected output: (batch_size, 3, 128, 128)\n",
    "    break\n",
    "\n",
    "training_dataset"
   ]
  },
  {
   "cell_type": "code",
   "execution_count": null,
   "metadata": {},
   "outputs": [],
   "source": [
    "training_labels = pd.read_csv('../data/boneage-training-dataset.csv')\n",
    "training_labels.head(5)"
   ]
  },
  {
   "cell_type": "code",
   "execution_count": null,
   "metadata": {},
   "outputs": [],
   "source": [
    "def showImages():\n",
    "  i, count = 0, 1\n",
    "  fig, axis = plt.subplots(3, 3, figsize=(9, 9))\n",
    "  fig.subplots_adjust(wspace=0.1, hspace=0.3)\n",
    "\n",
    "  for label in sample_labels:\n",
    "    img = ROOT_PATH / str(label) # getting image path with pathlib \n",
    "    img = img.with_suffix('.png')\n",
    "    img = Image.open(img).resize((128, 172))\n",
    "    axis[i][(count-1) % 3].imshow(img, cmap='gray')\n",
    "    axis[i][(count-1) % 3].set_title(f'Image with ID: {label}')\n",
    "    i += (count % 3 == 0) \n",
    "    count += 1"
   ]
  },
  {
   "cell_type": "code",
   "execution_count": null,
   "metadata": {},
   "outputs": [],
   "source": [
    "def preprocessImages():\n",
    "  for label in sample_labels:\n",
    "    img = ROOT_PATH / str(label) # getting image path with pathlib \n",
    "    img = img.with_suffix('.png')\n",
    "    img = Image.open(img).resize((256, 344)) # maybe change to (128, 172)\n",
    "\n",
    "    save_folder = SAVE_PATH\n",
    "    save_folder.mkdir(parents=True, exist_ok=True)\n",
    "    img.save((save_folder / f\"{label}.png\"))"
   ]
  },
  {
   "cell_type": "code",
   "execution_count": null,
   "metadata": {},
   "outputs": [],
   "source": [
    "showImages()"
   ]
  },
  {
   "cell_type": "code",
   "execution_count": null,
   "metadata": {},
   "outputs": [],
   "source": [
    "preprocessImages()"
   ]
  }
 ],
 "metadata": {
  "kernelspec": {
   "display_name": "venv",
   "language": "python",
   "name": "python3"
  },
  "language_info": {
   "codemirror_mode": {
    "name": "ipython",
    "version": 3
   },
   "file_extension": ".py",
   "mimetype": "text/x-python",
   "name": "python",
   "nbconvert_exporter": "python",
   "pygments_lexer": "ipython3",
   "version": "3.12.7"
  }
 },
 "nbformat": 4,
 "nbformat_minor": 2
}
